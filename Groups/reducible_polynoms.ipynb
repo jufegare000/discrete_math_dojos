{
 "cells": [
  {
   "cell_type": "code",
   "execution_count": 4,
   "id": "16ca61c0",
   "metadata": {},
   "outputs": [],
   "source": [
    "from sympy import *"
   ]
  },
  {
   "cell_type": "code",
   "execution_count": 16,
   "id": "e767a6fe",
   "metadata": {},
   "outputs": [],
   "source": [
    "def generate_polynom_list(degree: int):\n",
    "    items = list(range(degree))\n",
    "    polynoms_array = []\n",
    "    x = Symbol('x')\n",
    "    for i in range(degree):\n",
    "        for j in range(degree):\n",
    "            for k in range(1, degree):\n",
    "                current_polinom = k*x**2+j*x+i\n",
    "                polynoms_array.append(current_polinom)\n",
    "                \n",
    "    print('polynom array', len(polynoms_array))\n",
    "    return polynoms_array\n"
   ]
  },
  {
   "cell_type": "code",
   "execution_count": 17,
   "id": "d18ce40a",
   "metadata": {},
   "outputs": [],
   "source": [
    "def evaluate_polinom_in_degree(degree):\n",
    "    polynom_array = generate_polynom_list(degree)\n",
    "    \n",
    "    resul_list = []\n",
    "    x = Symbol('x')\n",
    "    for i in range(len(polynom_array)):\n",
    "        current_polynom = polynom_array[i]\n",
    "        current_row = []\n",
    "        for j in range(degree):\n",
    "                value = current_polynom.subs(x, j)%degree\n",
    "                if(value!=0):\n",
    "                    current_row.append(current_polynom)\n",
    "                if(j == (degree - 1) and len(current_row)==degree):\n",
    "                    current_row = []\n",
    "                    resul_list.append(current_polynom)\n",
    "    return resul_list"
   ]
  },
  {
   "cell_type": "code",
   "execution_count": 20,
   "id": "7ff1c546",
   "metadata": {},
   "outputs": [
    {
     "name": "stdout",
     "output_type": "stream",
     "text": [
      "polynom array 4\n"
     ]
    }
   ],
   "source": [
    "resul_list = evaluate_polinom_in_degree(2)"
   ]
  },
  {
   "cell_type": "code",
   "execution_count": 30,
   "id": "d3a05f1a",
   "metadata": {},
   "outputs": [
    {
     "data": {
      "text/plain": [
       "14"
      ]
     },
     "execution_count": 30,
     "metadata": {},
     "output_type": "execute_result"
    }
   ],
   "source": [
    "len(resul_list)\n",
    "resul_list"
   ]
  },
  {
   "cell_type": "code",
   "execution_count": 32,
   "id": "1de1ae5f",
   "metadata": {},
   "outputs": [],
   "source": [
    "a = nextprime(4545456546445655654877)\n",
    "b = nextprime(8545456546445655654877)"
   ]
  },
  {
   "cell_type": "code",
   "execution_count": 34,
   "id": "cd00d240",
   "metadata": {},
   "outputs": [
    {
     "data": {
      "text/plain": [
       "44"
      ]
     },
     "execution_count": 34,
     "metadata": {},
     "output_type": "execute_result"
    }
   ],
   "source": [
    "mul = a*b\n",
    "string = str(mul)\n",
    "len(string)"
   ]
  },
  {
   "cell_type": "code",
   "execution_count": 39,
   "id": "1ed0ce3f",
   "metadata": {},
   "outputs": [
    {
     "data": {
      "text/plain": [
       "22"
      ]
     },
     "execution_count": 39,
     "metadata": {},
     "output_type": "execute_result"
    }
   ],
   "source": [
    "astrlen = len(str(b))\n",
    "astrlen"
   ]
  },
  {
   "cell_type": "code",
   "execution_count": null,
   "id": "cad4e787",
   "metadata": {},
   "outputs": [],
   "source": [
    "# This function computes the factor of the argument passed\n",
    "print('The factors of', mul, 'are:')\n",
    "for i in range(1, mul+1):\n",
    "    if(mul % i) == 0:\n",
    "        print(i, end=' ')"
   ]
  }
 ],
 "metadata": {
  "kernelspec": {
   "display_name": "Python 3 (ipykernel)",
   "language": "python",
   "name": "python3"
  },
  "language_info": {
   "codemirror_mode": {
    "name": "ipython",
    "version": 3
   },
   "file_extension": ".py",
   "mimetype": "text/x-python",
   "name": "python",
   "nbconvert_exporter": "python",
   "pygments_lexer": "ipython3",
   "version": "3.8.10"
  }
 },
 "nbformat": 4,
 "nbformat_minor": 5
}
