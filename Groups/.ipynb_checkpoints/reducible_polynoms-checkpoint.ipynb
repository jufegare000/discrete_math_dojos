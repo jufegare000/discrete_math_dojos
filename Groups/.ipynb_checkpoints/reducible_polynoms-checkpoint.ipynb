{
 "cells": [
  {
   "cell_type": "code",
   "execution_count": 1,
   "id": "16ca61c0",
   "metadata": {},
   "outputs": [],
   "source": [
    "from sympy import *"
   ]
  },
  {
   "cell_type": "code",
   "execution_count": 2,
   "id": "e767a6fe",
   "metadata": {},
   "outputs": [],
   "source": [
    "def generate_polynom_list(degree: int):\n",
    "    items = list(range(degree))\n",
    "    polynoms_array = []\n",
    "    x = Symbol('x')\n",
    "    for i in range(5):\n",
    "        for j in range(5):\n",
    "            for k in range(1, 5):\n",
    "                current_polinom = k*x**2+j*x+i\n",
    "                polynoms_array.append(current_polinom)\n",
    "    return polynoms_array\n"
   ]
  },
  {
   "cell_type": "code",
   "execution_count": 3,
   "id": "8b57fc7b",
   "metadata": {},
   "outputs": [
    {
     "ename": "NameError",
     "evalue": "name 'polynom_array' is not defined",
     "output_type": "error",
     "traceback": [
      "\u001b[0;31m---------------------------------------------------------------------------\u001b[0m",
      "\u001b[0;31mNameError\u001b[0m                                 Traceback (most recent call last)",
      "\u001b[0;32m/tmp/ipykernel_8394/3327427321.py\u001b[0m in \u001b[0;36m<module>\u001b[0;34m\u001b[0m\n\u001b[0;32m----> 1\u001b[0;31m \u001b[0mprint\u001b[0m\u001b[0;34m(\u001b[0m\u001b[0mlen\u001b[0m\u001b[0;34m(\u001b[0m\u001b[0mpolynom_array\u001b[0m\u001b[0;34m)\u001b[0m\u001b[0;34m)\u001b[0m\u001b[0;34m\u001b[0m\u001b[0;34m\u001b[0m\u001b[0m\n\u001b[0m\u001b[1;32m      2\u001b[0m \u001b[0;34m\u001b[0m\u001b[0m\n\u001b[1;32m      3\u001b[0m \u001b[0mprint\u001b[0m\u001b[0;34m(\u001b[0m\u001b[0mpolynom_array\u001b[0m\u001b[0;34m)\u001b[0m\u001b[0;34m\u001b[0m\u001b[0;34m\u001b[0m\u001b[0m\n",
      "\u001b[0;31mNameError\u001b[0m: name 'polynom_array' is not defined"
     ]
    }
   ],
   "source": [
    "print(len(polynom_array))\n",
    "\n",
    "print(polynom_array)"
   ]
  },
  {
   "cell_type": "code",
   "execution_count": null,
   "id": "d18ce40a",
   "metadata": {},
   "outputs": [],
   "source": [
    "def evaluate_polinom_in_degree(degree):\n",
    "    polynom_array = generate_polynom_list(degree)\n",
    "    resul_list = []\n",
    "    x = Symbol('x')\n",
    "    for i in range(len(polynom_array)):\n",
    "        current_polynom = polynom_array[i]\n",
    "        current_row = []\n",
    "        for j in range(degree):\n",
    "                value = current_polynom.subs(x, j)%degree\n",
    "                if(value!=0):\n",
    "                    current_row.append(current_polynom)\n",
    "                if(j == (degree - 1) and len(current_row)==degree):\n",
    "                    current_row = []\n",
    "                    resul_list.append(current_polynom)\n",
    "    return resul_list"
   ]
  },
  {
   "cell_type": "code",
   "execution_count": null,
   "id": "7ff1c546",
   "metadata": {},
   "outputs": [],
   "source": [
    "resul_list = evaluate_polinom_in_degree(3)"
   ]
  },
  {
   "cell_type": "code",
   "execution_count": null,
   "id": "d3a05f1a",
   "metadata": {},
   "outputs": [],
   "source": [
    "len(resul_list)"
   ]
  },
  {
   "cell_type": "code",
   "execution_count": null,
   "id": "8bb47fbe",
   "metadata": {},
   "outputs": [],
   "source": []
  }
 ],
 "metadata": {
  "kernelspec": {
   "display_name": "Python 3 (ipykernel)",
   "language": "python",
   "name": "python3"
  },
  "language_info": {
   "codemirror_mode": {
    "name": "ipython",
    "version": 3
   },
   "file_extension": ".py",
   "mimetype": "text/x-python",
   "name": "python",
   "nbconvert_exporter": "python",
   "pygments_lexer": "ipython3",
   "version": "3.8.10"
  }
 },
 "nbformat": 4,
 "nbformat_minor": 5
}
