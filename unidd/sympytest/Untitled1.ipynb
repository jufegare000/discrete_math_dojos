{
 "cells": [
  {
   "cell_type": "code",
   "execution_count": null,
   "id": "6d57aff4",
   "metadata": {},
   "outputs": [],
   "source": [
    "print('holi')"
   ]
  },
  {
   "cell_type": "code",
   "execution_count": null,
   "id": "28c0a8e5",
   "metadata": {},
   "outputs": [],
   "source": [
    "def whatIsTheMajorAndTheMinor(number1: int, number2: int, number3: int):\n",
    "    # Evaluate what is the major\n",
    "    major = 0;\n",
    "    minor = 0;\n",
    "    if(number1>number2 and number1>number3):\n",
    "        major = number1\n",
    "    elif(number2>number1 and number2>number3):\n",
    "        major = number2\n",
    "    elif(number3>number1 and number3>number2):\n",
    "        major = number3\n",
    "    print('the major number is: ',major)\n",
    "    if(number1<number2 and number1<number3):\n",
    "        minor = number1\n",
    "    elif(number2<number1 and number2<number3):\n",
    "        minor = number2\n",
    "    elif(number3<number1 and number3<number2):\n",
    "        minor = number3\n",
    "    print('the minor number is: ',minor)"
   ]
  },
  {
   "cell_type": "code",
   "execution_count": null,
   "id": "cca67430",
   "metadata": {},
   "outputs": [],
   "source": [
    "whatIsTheMajorAndTheMinor(100,25,5000)"
   ]
  },
  {
   "cell_type": "code",
   "execution_count": null,
   "id": "4dd248dd",
   "metadata": {},
   "outputs": [],
   "source": [
    "def operate(number1, number2):\n",
    "    suma = number1+number2\n",
    "    print(\"suma: \",suma)\n",
    "    resuta = number1-number2\n",
    "    print(\"resta: \",resuta)\n",
    "    miltplicacion = number1*number2\n",
    "    print(\"miltplicacion: \",miltplicacion)"
   ]
  },
  {
   "cell_type": "code",
   "execution_count": null,
   "id": "5f4933b0",
   "metadata": {},
   "outputs": [],
   "source": [
    "operate(15,10)"
   ]
  },
  {
   "cell_type": "code",
   "execution_count": 1,
   "id": "aff5668c",
   "metadata": {},
   "outputs": [],
   "source": [
    "def calcularPromedio(number1, number2, number3, number4, number5):\n",
    "    promedio = (number1  +number2 +number3 +number4 +number5)/5\n",
    "    print(promedio)"
   ]
  },
  {
   "cell_type": "code",
   "execution_count": 3,
   "id": "175c2a1d",
   "metadata": {},
   "outputs": [
    {
     "name": "stdout",
     "output_type": "stream",
     "text": [
      "1.8\n"
     ]
    }
   ],
   "source": [
    "calcularPromedio(1,1,5,1,1)"
   ]
  },
  {
   "cell_type": "code",
   "execution_count": 14,
   "id": "7ab513be",
   "metadata": {},
   "outputs": [],
   "source": [
    "arra = [1,2,3,4,5,6,7,8,9,19,5,5,5,5,1,5,5,5,4]"
   ]
  },
  {
   "cell_type": "code",
   "execution_count": 16,
   "id": "30f71424",
   "metadata": {},
   "outputs": [
    {
     "data": {
      "text/plain": [
       "2"
      ]
     },
     "execution_count": 16,
     "metadata": {},
     "output_type": "execute_result"
    }
   ],
   "source": [
    "arra[1]"
   ]
  },
  {
   "cell_type": "code",
   "execution_count": null,
   "id": "903f72c7",
   "metadata": {},
   "outputs": [],
   "source": [
    "obj = { \"atributo1\": 1, \"atributo2\": \"esto es un texto\", \"atributo3\": 1.666}"
   ]
  },
  {
   "cell_type": "code",
   "execution_count": null,
   "id": "3711f936",
   "metadata": {},
   "outputs": [],
   "source": [
    "obj"
   ]
  },
  {
   "cell_type": "code",
   "execution_count": null,
   "id": "6bcc3547",
   "metadata": {},
   "outputs": [],
   "source": [
    "def calcularPromedioPro(array):\n",
    "    suma = 0\n",
    "    tamano = len(array)\n",
    "    for i in range(tamano):\n",
    "        suma = suma + array[i]\n",
    "    promedio = suma/tamano\n",
    "    print(promedio)"
   ]
  },
  {
   "cell_type": "code",
   "execution_count": null,
   "id": "b8f2bcf5",
   "metadata": {},
   "outputs": [],
   "source": [
    "calcularPromedioPro([1,1,1,1,20])"
   ]
  },
  {
   "cell_type": "code",
   "execution_count": null,
   "id": "da3e0a7a",
   "metadata": {},
   "outputs": [],
   "source": [
    "def sumaPrimeros20Numeros(array):\n",
    "    suma = 0\n",
    "    for i in range(20):\n",
    "        suma = suma + array[i]\n",
    "    print(suma)"
   ]
  },
  {
   "cell_type": "code",
   "execution_count": 18,
   "id": "4c18df5f",
   "metadata": {},
   "outputs": [
    {
     "ename": "NameError",
     "evalue": "name 'sumaPrimeros20Numeros' is not defined",
     "output_type": "error",
     "traceback": [
      "\u001b[0;31m---------------------------------------------------------------------------\u001b[0m",
      "\u001b[0;31mNameError\u001b[0m                                 Traceback (most recent call last)",
      "\u001b[0;32m/tmp/ipykernel_6250/19188491.py\u001b[0m in \u001b[0;36m<module>\u001b[0;34m\u001b[0m\n\u001b[1;32m      1\u001b[0m \u001b[0marray\u001b[0m \u001b[0;34m=\u001b[0m \u001b[0;34m[\u001b[0m\u001b[0;36m55\u001b[0m\u001b[0;34m,\u001b[0m\u001b[0;36m1\u001b[0m\u001b[0;34m,\u001b[0m\u001b[0;36m1\u001b[0m\u001b[0;34m,\u001b[0m\u001b[0;36m1\u001b[0m\u001b[0;34m,\u001b[0m\u001b[0;36m1\u001b[0m\u001b[0;34m,\u001b[0m\u001b[0;36m1\u001b[0m\u001b[0;34m,\u001b[0m\u001b[0;36m1666\u001b[0m\u001b[0;34m,\u001b[0m\u001b[0;36m1\u001b[0m\u001b[0;34m,\u001b[0m\u001b[0;36m1\u001b[0m\u001b[0;34m,\u001b[0m\u001b[0;36m1\u001b[0m\u001b[0;34m,\u001b[0m\u001b[0;36m1\u001b[0m\u001b[0;34m,\u001b[0m\u001b[0;36m1\u001b[0m\u001b[0;34m,\u001b[0m\u001b[0;36m1\u001b[0m\u001b[0;34m,\u001b[0m\u001b[0;36m1\u001b[0m\u001b[0;34m,\u001b[0m\u001b[0;36m1\u001b[0m\u001b[0;34m,\u001b[0m\u001b[0;36m1\u001b[0m\u001b[0;34m,\u001b[0m\u001b[0;36m1\u001b[0m\u001b[0;34m,\u001b[0m\u001b[0;36m1\u001b[0m\u001b[0;34m,\u001b[0m\u001b[0;36m1\u001b[0m\u001b[0;34m,\u001b[0m\u001b[0;36m2\u001b[0m\u001b[0;34m,\u001b[0m\u001b[0;36m1999\u001b[0m\u001b[0;34m,\u001b[0m\u001b[0;36m1\u001b[0m\u001b[0;34m,\u001b[0m\u001b[0;36m2\u001b[0m\u001b[0;34m,\u001b[0m\u001b[0;36m34\u001b[0m\u001b[0;34m,\u001b[0m\u001b[0;36m5\u001b[0m\u001b[0;34m,\u001b[0m\u001b[0;36m6\u001b[0m\u001b[0;34m,\u001b[0m\u001b[0;36m1\u001b[0m\u001b[0;34m]\u001b[0m\u001b[0;34m\u001b[0m\u001b[0;34m\u001b[0m\u001b[0m\n\u001b[0;32m----> 2\u001b[0;31m \u001b[0msumaPrimeros20Numeros\u001b[0m\u001b[0;34m(\u001b[0m\u001b[0marray\u001b[0m\u001b[0;34m)\u001b[0m\u001b[0;34m\u001b[0m\u001b[0;34m\u001b[0m\u001b[0m\n\u001b[0m",
      "\u001b[0;31mNameError\u001b[0m: name 'sumaPrimeros20Numeros' is not defined"
     ]
    }
   ],
   "source": [
    "array = [55,1,1,1,1,1,1666,1,1,1,1,1,1,1,1,1,1,1,1,2,1999,1,2,34,5,6,1]\n",
    "sumaPrimeros20Numeros(array)"
   ]
  },
  {
   "cell_type": "code",
   "execution_count": 25,
   "id": "6e00a95f",
   "metadata": {},
   "outputs": [
    {
     "data": {
      "text/plain": [
       "5912"
      ]
     },
     "execution_count": 25,
     "metadata": {},
     "output_type": "execute_result"
    }
   ],
   "source": [
    "import random\n",
    "random.randint(999,10000)"
   ]
  }
 ],
 "metadata": {
  "kernelspec": {
   "display_name": "Python 3 (ipykernel)",
   "language": "python",
   "name": "python3"
  },
  "language_info": {
   "codemirror_mode": {
    "name": "ipython",
    "version": 3
   },
   "file_extension": ".py",
   "mimetype": "text/x-python",
   "name": "python",
   "nbconvert_exporter": "python",
   "pygments_lexer": "ipython3",
   "version": "3.8.10"
  }
 },
 "nbformat": 4,
 "nbformat_minor": 5
}
