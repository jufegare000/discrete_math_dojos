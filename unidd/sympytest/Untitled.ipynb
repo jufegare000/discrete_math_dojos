{
 "cells": [
  {
   "cell_type": "code",
   "execution_count": 1,
   "id": "c53ccdc9",
   "metadata": {},
   "outputs": [],
   "source": [
    "from sympy import *"
   ]
  },
  {
   "cell_type": "code",
   "execution_count": 2,
   "id": "e79600e1",
   "metadata": {},
   "outputs": [
    {
     "data": {
      "text/latex": [
       "$\\displaystyle 1$"
      ],
      "text/plain": [
       "1"
      ]
     },
     "execution_count": 2,
     "metadata": {},
     "output_type": "execute_result"
    }
   ],
   "source": [
    "x = Symbol('x')\n",
    "limit(sin(x)/x, x, 0)"
   ]
  },
  {
   "cell_type": "code",
   "execution_count": 5,
   "id": "162b43eb",
   "metadata": {},
   "outputs": [
    {
     "data": {
      "text/latex": [
       "$\\displaystyle \\left(x^{24} + x^{20} + x^{16} + x^{12} + x^{8} + x^{4} + 1\\right) \\left(x^{24} + x^{21} + x^{18} + x^{15} + x^{12} + x^{9} + x^{6} + x^{3} + 1\\right) \\left(x^{24} + x^{22} + x^{20} + x^{18} + x^{16} + x^{14} + x^{12} + x^{10} + x^{8} + x^{6} + x^{4} + x^{2} + 1\\right)$"
      ],
      "text/plain": [
       "(x**24 + x**20 + x**16 + x**12 + x**8 + x**4 + 1)*(x**24 + x**21 + x**18 + x**15 + x**12 + x**9 + x**6 + x**3 + 1)*(x**24 + x**22 + x**20 + x**18 + x**16 + x**14 + x**12 + x**10 + x**8 + x**6 + x**4 + x**2 + 1)"
      ]
     },
     "execution_count": 5,
     "metadata": {},
     "output_type": "execute_result"
    }
   ],
   "source": [
    "x3 = x**0 + x**3 + x**6 + x**9 + x**12 + x**15 + x**18 + x**21 + x**24\n",
    "y4 = x**0 + x**4 + x**8 + x**12 + x**16 + x**20 + x**24\n",
    "z2 = x**0 + x**2 + x**4 + x**6 + x**8 + x**10 + x**12 + x**14 + x**16 + x**18 + x**20 + x**22 + x**24\n",
    "x3*y4*z2"
   ]
  },
  {
   "cell_type": "code",
   "execution_count": 6,
   "id": "56cc770f",
   "metadata": {},
   "outputs": [
    {
     "data": {
      "text/latex": [
       "$\\displaystyle \\operatorname{Poly}{\\left( x^{72} + x^{70} + x^{69} + 2 x^{68} + x^{67} + 3 x^{66} + 2 x^{65} + 4 x^{64} + 3 x^{63} + 5 x^{62} + 4 x^{61} + 7 x^{60} + 5 x^{59} + 8 x^{58} + 7 x^{57} + 10 x^{56} + 8 x^{55} + 12 x^{54} + 10 x^{53} + 14 x^{52} + 12 x^{51} + 16 x^{50} + 14 x^{49} + 19 x^{48} + 16 x^{47} + 20 x^{46} + 18 x^{45} + 22 x^{44} + 19 x^{43} + 23 x^{42} + 20 x^{41} + 24 x^{40} + 21 x^{39} + 24 x^{38} + 21 x^{37} + 25 x^{36} + 21 x^{35} + 24 x^{34} + 21 x^{33} + 24 x^{32} + 20 x^{31} + 23 x^{30} + 19 x^{29} + 22 x^{28} + 18 x^{27} + 20 x^{26} + 16 x^{25} + 19 x^{24} + 14 x^{23} + 16 x^{22} + 12 x^{21} + 14 x^{20} + 10 x^{19} + 12 x^{18} + 8 x^{17} + 10 x^{16} + 7 x^{15} + 8 x^{14} + 5 x^{13} + 7 x^{12} + 4 x^{11} + 5 x^{10} + 3 x^{9} + 4 x^{8} + 2 x^{7} + 3 x^{6} + x^{5} + 2 x^{4} + x^{3} + x^{2} + 1, x, domain=\\mathbb{Z} \\right)}$"
      ],
      "text/plain": [
       "Poly(x**72 + x**70 + x**69 + 2*x**68 + x**67 + 3*x**66 + 2*x**65 + 4*x**64 + 3*x**63 + 5*x**62 + 4*x**61 + 7*x**60 + 5*x**59 + 8*x**58 + 7*x**57 + 10*x**56 + 8*x**55 + 12*x**54 + 10*x**53 + 14*x**52 + 12*x**51 + 16*x**50 + 14*x**49 + 19*x**48 + 16*x**47 + 20*x**46 + 18*x**45 + 22*x**44 + 19*x**43 + 23*x**42 + 20*x**41 + 24*x**40 + 21*x**39 + 24*x**38 + 21*x**37 + 25*x**36 + 21*x**35 + 24*x**34 + 21*x**33 + 24*x**32 + 20*x**31 + 23*x**30 + 19*x**29 + 22*x**28 + 18*x**27 + 20*x**26 + 16*x**25 + 19*x**24 + 14*x**23 + 16*x**22 + 12*x**21 + 14*x**20 + 10*x**19 + 12*x**18 + 8*x**17 + 10*x**16 + 7*x**15 + 8*x**14 + 5*x**13 + 7*x**12 + 4*x**11 + 5*x**10 + 3*x**9 + 4*x**8 + 2*x**7 + 3*x**6 + x**5 + 2*x**4 + x**3 + x**2 + 1, x, domain='ZZ')"
      ]
     },
     "execution_count": 6,
     "metadata": {},
     "output_type": "execute_result"
    }
   ],
   "source": [
    "poly(x3*y4*z2)"
   ]
  }
 ],
 "metadata": {
  "kernelspec": {
   "display_name": "Python 3 (ipykernel)",
   "language": "python",
   "name": "python3"
  },
  "language_info": {
   "codemirror_mode": {
    "name": "ipython",
    "version": 3
   },
   "file_extension": ".py",
   "mimetype": "text/x-python",
   "name": "python",
   "nbconvert_exporter": "python",
   "pygments_lexer": "ipython3",
   "version": "3.8.10"
  }
 },
 "nbformat": 4,
 "nbformat_minor": 5
}
